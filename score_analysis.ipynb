{
 "cells": [
  {
   "cell_type": "code",
   "execution_count": 1,
   "id": "d1d138bf-7daf-4298-ae25-bf815d92982d",
   "metadata": {},
   "outputs": [],
   "source": [
    "import pandas as pd"
   ]
  },
  {
   "cell_type": "code",
   "execution_count": 2,
   "id": "8134a481-b05f-4905-88aa-5a236afaffac",
   "metadata": {},
   "outputs": [],
   "source": [
    "df = pd.read_html(\"scores_project1.xml\")[0]"
   ]
  },
  {
   "cell_type": "code",
   "execution_count": 3,
   "id": "2cc7cd44-ec3b-4671-87da-f885d2c422c2",
   "metadata": {},
   "outputs": [
    {
     "data": {
      "text/html": [
       "<div>\n",
       "<style scoped>\n",
       "    .dataframe tbody tr th:only-of-type {\n",
       "        vertical-align: middle;\n",
       "    }\n",
       "\n",
       "    .dataframe tbody tr th {\n",
       "        vertical-align: top;\n",
       "    }\n",
       "\n",
       "    .dataframe thead th {\n",
       "        text-align: right;\n",
       "    }\n",
       "</style>\n",
       "<table border=\"1\" class=\"dataframe\">\n",
       "  <thead>\n",
       "    <tr style=\"text-align: right;\">\n",
       "      <th></th>\n",
       "      <th>0</th>\n",
       "      <th>1</th>\n",
       "      <th>2</th>\n",
       "      <th>3</th>\n",
       "    </tr>\n",
       "  </thead>\n",
       "  <tbody>\n",
       "    <tr>\n",
       "      <th>0</th>\n",
       "      <td>1</td>\n",
       "      <td>Gitwrecked</td>\n",
       "      <td>0.773651857613</td>\n",
       "      <td>0.740200205308</td>\n",
       "    </tr>\n",
       "    <tr>\n",
       "      <th>1</th>\n",
       "      <td>2</td>\n",
       "      <td>Buddhism</td>\n",
       "      <td>0.766709805503</td>\n",
       "      <td>0.736706839014</td>\n",
       "    </tr>\n",
       "    <tr>\n",
       "      <th>2</th>\n",
       "      <td>3</td>\n",
       "      <td>Amles</td>\n",
       "      <td>0.777533057147</td>\n",
       "      <td>0.735522492724</td>\n",
       "    </tr>\n",
       "    <tr>\n",
       "      <th>3</th>\n",
       "      <td>4</td>\n",
       "      <td>Xyw</td>\n",
       "      <td>0.764229152254</td>\n",
       "      <td>0.733463980274</td>\n",
       "    </tr>\n",
       "    <tr>\n",
       "      <th>4</th>\n",
       "      <td>5</td>\n",
       "      <td>Themusketeers</td>\n",
       "      <td>0.773582181137</td>\n",
       "      <td>0.732792633974</td>\n",
       "    </tr>\n",
       "    <tr>\n",
       "      <th>...</th>\n",
       "      <td>...</td>\n",
       "      <td>...</td>\n",
       "      <td>...</td>\n",
       "      <td>...</td>\n",
       "    </tr>\n",
       "    <tr>\n",
       "      <th>174</th>\n",
       "      <td>175</td>\n",
       "      <td>Xyz</td>\n",
       "      <td>no result</td>\n",
       "      <td>no result</td>\n",
       "    </tr>\n",
       "    <tr>\n",
       "      <th>175</th>\n",
       "      <td>176</td>\n",
       "      <td>Antti</td>\n",
       "      <td>no result</td>\n",
       "      <td>no result</td>\n",
       "    </tr>\n",
       "    <tr>\n",
       "      <th>176</th>\n",
       "      <td>177</td>\n",
       "      <td>Soontodropout</td>\n",
       "      <td>no result</td>\n",
       "      <td>no result</td>\n",
       "    </tr>\n",
       "    <tr>\n",
       "      <th>177</th>\n",
       "      <td>178</td>\n",
       "      <td>Deepdivers</td>\n",
       "      <td>no result</td>\n",
       "      <td>no result</td>\n",
       "    </tr>\n",
       "    <tr>\n",
       "      <th>178</th>\n",
       "      <td>179</td>\n",
       "      <td>Randomgroup</td>\n",
       "      <td>no result</td>\n",
       "      <td>no result</td>\n",
       "    </tr>\n",
       "  </tbody>\n",
       "</table>\n",
       "<p>179 rows × 4 columns</p>\n",
       "</div>"
      ],
      "text/plain": [
       "       0              1               2               3\n",
       "0      1     Gitwrecked  0.773651857613  0.740200205308\n",
       "1      2       Buddhism  0.766709805503  0.736706839014\n",
       "2      3          Amles  0.777533057147  0.735522492724\n",
       "3      4            Xyw  0.764229152254  0.733463980274\n",
       "4      5  Themusketeers  0.773582181137  0.732792633974\n",
       "..   ...            ...             ...             ...\n",
       "174  175            Xyz       no result       no result\n",
       "175  176          Antti       no result       no result\n",
       "176  177  Soontodropout       no result       no result\n",
       "177  178     Deepdivers       no result       no result\n",
       "178  179    Randomgroup       no result       no result\n",
       "\n",
       "[179 rows x 4 columns]"
      ]
     },
     "execution_count": 3,
     "metadata": {},
     "output_type": "execute_result"
    }
   ],
   "source": [
    "df"
   ]
  },
  {
   "cell_type": "code",
   "execution_count": 4,
   "id": "3a3f9ac1-e4c8-43df-b09a-b8ddcb2eade0",
   "metadata": {},
   "outputs": [],
   "source": [
    "df = df.rename(columns={0:'private_rank', 1:'name', 2:'public', 3:'private'})"
   ]
  },
  {
   "cell_type": "code",
   "execution_count": 5,
   "id": "dfa14e62-a44f-4f24-8898-621356a32626",
   "metadata": {},
   "outputs": [
    {
     "data": {
      "text/html": [
       "<div>\n",
       "<style scoped>\n",
       "    .dataframe tbody tr th:only-of-type {\n",
       "        vertical-align: middle;\n",
       "    }\n",
       "\n",
       "    .dataframe tbody tr th {\n",
       "        vertical-align: top;\n",
       "    }\n",
       "\n",
       "    .dataframe thead th {\n",
       "        text-align: right;\n",
       "    }\n",
       "</style>\n",
       "<table border=\"1\" class=\"dataframe\">\n",
       "  <thead>\n",
       "    <tr style=\"text-align: right;\">\n",
       "      <th></th>\n",
       "      <th>private_rank</th>\n",
       "      <th>name</th>\n",
       "      <th>public</th>\n",
       "      <th>private</th>\n",
       "    </tr>\n",
       "  </thead>\n",
       "  <tbody>\n",
       "    <tr>\n",
       "      <th>0</th>\n",
       "      <td>1</td>\n",
       "      <td>Gitwrecked</td>\n",
       "      <td>0.773651857613</td>\n",
       "      <td>0.740200205308</td>\n",
       "    </tr>\n",
       "    <tr>\n",
       "      <th>1</th>\n",
       "      <td>2</td>\n",
       "      <td>Buddhism</td>\n",
       "      <td>0.766709805503</td>\n",
       "      <td>0.736706839014</td>\n",
       "    </tr>\n",
       "    <tr>\n",
       "      <th>2</th>\n",
       "      <td>3</td>\n",
       "      <td>Amles</td>\n",
       "      <td>0.777533057147</td>\n",
       "      <td>0.735522492724</td>\n",
       "    </tr>\n",
       "    <tr>\n",
       "      <th>3</th>\n",
       "      <td>4</td>\n",
       "      <td>Xyw</td>\n",
       "      <td>0.764229152254</td>\n",
       "      <td>0.733463980274</td>\n",
       "    </tr>\n",
       "    <tr>\n",
       "      <th>4</th>\n",
       "      <td>5</td>\n",
       "      <td>Themusketeers</td>\n",
       "      <td>0.773582181137</td>\n",
       "      <td>0.732792633974</td>\n",
       "    </tr>\n",
       "    <tr>\n",
       "      <th>...</th>\n",
       "      <td>...</td>\n",
       "      <td>...</td>\n",
       "      <td>...</td>\n",
       "      <td>...</td>\n",
       "    </tr>\n",
       "    <tr>\n",
       "      <th>174</th>\n",
       "      <td>175</td>\n",
       "      <td>Xyz</td>\n",
       "      <td>no result</td>\n",
       "      <td>no result</td>\n",
       "    </tr>\n",
       "    <tr>\n",
       "      <th>175</th>\n",
       "      <td>176</td>\n",
       "      <td>Antti</td>\n",
       "      <td>no result</td>\n",
       "      <td>no result</td>\n",
       "    </tr>\n",
       "    <tr>\n",
       "      <th>176</th>\n",
       "      <td>177</td>\n",
       "      <td>Soontodropout</td>\n",
       "      <td>no result</td>\n",
       "      <td>no result</td>\n",
       "    </tr>\n",
       "    <tr>\n",
       "      <th>177</th>\n",
       "      <td>178</td>\n",
       "      <td>Deepdivers</td>\n",
       "      <td>no result</td>\n",
       "      <td>no result</td>\n",
       "    </tr>\n",
       "    <tr>\n",
       "      <th>178</th>\n",
       "      <td>179</td>\n",
       "      <td>Randomgroup</td>\n",
       "      <td>no result</td>\n",
       "      <td>no result</td>\n",
       "    </tr>\n",
       "  </tbody>\n",
       "</table>\n",
       "<p>179 rows × 4 columns</p>\n",
       "</div>"
      ],
      "text/plain": [
       "     private_rank           name          public         private\n",
       "0               1     Gitwrecked  0.773651857613  0.740200205308\n",
       "1               2       Buddhism  0.766709805503  0.736706839014\n",
       "2               3          Amles  0.777533057147  0.735522492724\n",
       "3               4            Xyw  0.764229152254  0.733463980274\n",
       "4               5  Themusketeers  0.773582181137  0.732792633974\n",
       "..            ...            ...             ...             ...\n",
       "174           175            Xyz       no result       no result\n",
       "175           176          Antti       no result       no result\n",
       "176           177  Soontodropout       no result       no result\n",
       "177           178     Deepdivers       no result       no result\n",
       "178           179    Randomgroup       no result       no result\n",
       "\n",
       "[179 rows x 4 columns]"
      ]
     },
     "execution_count": 5,
     "metadata": {},
     "output_type": "execute_result"
    }
   ],
   "source": [
    "df"
   ]
  },
  {
   "cell_type": "code",
   "execution_count": 6,
   "id": "241d4cee-40e3-411d-9163-1d044caea0e6",
   "metadata": {},
   "outputs": [],
   "source": [
    "import seaborn as sns\n",
    "import numpy as np\n",
    "from scipy import stats\n",
    "\n",
    "\n",
    "%matplotlib inline\n"
   ]
  },
  {
   "cell_type": "code",
   "execution_count": 7,
   "id": "4cd8382a-2bd5-4ff9-89c0-07d13e4e98cf",
   "metadata": {},
   "outputs": [
    {
     "data": {
      "text/html": [
       "<div>\n",
       "<style scoped>\n",
       "    .dataframe tbody tr th:only-of-type {\n",
       "        vertical-align: middle;\n",
       "    }\n",
       "\n",
       "    .dataframe tbody tr th {\n",
       "        vertical-align: top;\n",
       "    }\n",
       "\n",
       "    .dataframe thead th {\n",
       "        text-align: right;\n",
       "    }\n",
       "</style>\n",
       "<table border=\"1\" class=\"dataframe\">\n",
       "  <thead>\n",
       "    <tr style=\"text-align: right;\">\n",
       "      <th></th>\n",
       "      <th>private_rank</th>\n",
       "      <th>name</th>\n",
       "      <th>public</th>\n",
       "      <th>private</th>\n",
       "    </tr>\n",
       "  </thead>\n",
       "  <tbody>\n",
       "    <tr>\n",
       "      <th>0</th>\n",
       "      <td>1</td>\n",
       "      <td>Gitwrecked</td>\n",
       "      <td>0.773651857613</td>\n",
       "      <td>0.740200205308</td>\n",
       "    </tr>\n",
       "    <tr>\n",
       "      <th>1</th>\n",
       "      <td>2</td>\n",
       "      <td>Buddhism</td>\n",
       "      <td>0.766709805503</td>\n",
       "      <td>0.736706839014</td>\n",
       "    </tr>\n",
       "    <tr>\n",
       "      <th>2</th>\n",
       "      <td>3</td>\n",
       "      <td>Amles</td>\n",
       "      <td>0.777533057147</td>\n",
       "      <td>0.735522492724</td>\n",
       "    </tr>\n",
       "    <tr>\n",
       "      <th>3</th>\n",
       "      <td>4</td>\n",
       "      <td>Xyw</td>\n",
       "      <td>0.764229152254</td>\n",
       "      <td>0.733463980274</td>\n",
       "    </tr>\n",
       "    <tr>\n",
       "      <th>4</th>\n",
       "      <td>5</td>\n",
       "      <td>Themusketeers</td>\n",
       "      <td>0.773582181137</td>\n",
       "      <td>0.732792633974</td>\n",
       "    </tr>\n",
       "    <tr>\n",
       "      <th>...</th>\n",
       "      <td>...</td>\n",
       "      <td>...</td>\n",
       "      <td>...</td>\n",
       "      <td>...</td>\n",
       "    </tr>\n",
       "    <tr>\n",
       "      <th>169</th>\n",
       "      <td>170</td>\n",
       "      <td>Fjg</td>\n",
       "      <td>0.533881577204</td>\n",
       "      <td>0.482027864089</td>\n",
       "    </tr>\n",
       "    <tr>\n",
       "      <th>170</th>\n",
       "      <td>171</td>\n",
       "      <td>Qwertzuiop</td>\n",
       "      <td>0.522227486986</td>\n",
       "      <td>0.451606986303</td>\n",
       "    </tr>\n",
       "    <tr>\n",
       "      <th>171</th>\n",
       "      <td>172</td>\n",
       "      <td>Pocho</td>\n",
       "      <td>-0.00535191876933</td>\n",
       "      <td>-0.000494057567652</td>\n",
       "    </tr>\n",
       "    <tr>\n",
       "      <th>172</th>\n",
       "      <td>173</td>\n",
       "      <td>sample</td>\n",
       "      <td>-0.00337561152889</td>\n",
       "      <td>-0.00337561152889</td>\n",
       "    </tr>\n",
       "    <tr>\n",
       "      <th>173</th>\n",
       "      <td>174</td>\n",
       "      <td>sample solution</td>\n",
       "      <td>-0.00337561152889</td>\n",
       "      <td>-0.00337561152889</td>\n",
       "    </tr>\n",
       "  </tbody>\n",
       "</table>\n",
       "<p>174 rows × 4 columns</p>\n",
       "</div>"
      ],
      "text/plain": [
       "     private_rank             name             public             private\n",
       "0               1       Gitwrecked     0.773651857613      0.740200205308\n",
       "1               2         Buddhism     0.766709805503      0.736706839014\n",
       "2               3            Amles     0.777533057147      0.735522492724\n",
       "3               4              Xyw     0.764229152254      0.733463980274\n",
       "4               5    Themusketeers     0.773582181137      0.732792633974\n",
       "..            ...              ...                ...                 ...\n",
       "169           170              Fjg     0.533881577204      0.482027864089\n",
       "170           171       Qwertzuiop     0.522227486986      0.451606986303\n",
       "171           172            Pocho  -0.00535191876933  -0.000494057567652\n",
       "172           173           sample  -0.00337561152889   -0.00337561152889\n",
       "173           174  sample solution  -0.00337561152889   -0.00337561152889\n",
       "\n",
       "[174 rows x 4 columns]"
      ]
     },
     "execution_count": 7,
     "metadata": {},
     "output_type": "execute_result"
    }
   ],
   "source": [
    "df = df.drop(df[df.public == 'no result'].index)\n",
    "df"
   ]
  },
  {
   "cell_type": "code",
   "execution_count": 8,
   "id": "4aabd670-dbc2-4f2e-9731-d5704fab6e49",
   "metadata": {},
   "outputs": [
    {
     "name": "stderr",
     "output_type": "stream",
     "text": [
      "/home/chrome/.miniconda3/lib/python3.8/site-packages/seaborn/distributions.py:2557: FutureWarning: `distplot` is a deprecated function and will be removed in a future version. Please adapt your code to use either `displot` (a figure-level function with similar flexibility) or `histplot` (an axes-level function for histograms).\n",
      "  warnings.warn(msg, FutureWarning)\n"
     ]
    },
    {
     "data": {
      "text/plain": [
       "Text(0.5, 1.0, 'Public leaderboard score density')"
      ]
     },
     "execution_count": 8,
     "metadata": {},
     "output_type": "execute_result"
    },
    {
     "data": {
      "image/png": "[encoded data removed]",
      "text/plain": [
       "<Figure size 432x288 with 1 Axes>"
      ]
     },
     "metadata": {
      "needs_background": "light"
     },
     "output_type": "display_data"
    }
   ],
   "source": [
    "sns.distplot(df['public'], hist=True, kde=True, color = 'darkblue', \n",
    "             hist_kws={'edgecolor':'black'},\n",
    "             kde_kws={'linewidth': 4}).set_title('Public leaderboard score density')"
   ]
  },
  {
   "cell_type": "code",
   "execution_count": 9,
   "id": "48f23a3f-503c-412e-a585-e4e8ecda6af2",
   "metadata": {},
   "outputs": [
    {
     "name": "stderr",
     "output_type": "stream",
     "text": [
      "/home/chrome/.miniconda3/lib/python3.8/site-packages/seaborn/distributions.py:2557: FutureWarning: `distplot` is a deprecated function and will be removed in a future version. Please adapt your code to use either `displot` (a figure-level function with similar flexibility) or `histplot` (an axes-level function for histograms).\n",
      "  warnings.warn(msg, FutureWarning)\n"
     ]
    },
    {
     "data": {
      "text/plain": [
       "Text(0.5, 1.0, 'Private leaderboard score density')"
      ]
     },
     "execution_count": 9,
     "metadata": {},
     "output_type": "execute_result"
    },
    {
     "data": {
      "image/png": "[encoded data removed]",
      "text/plain": [
       "<Figure size 432x288 with 1 Axes>"
      ]
     },
     "metadata": {
      "needs_background": "light"
     },
     "output_type": "display_data"
    }
   ],
   "source": [
    "sns.distplot(df['private'], hist=True, kde=True, color = 'darkblue', \n",
    "             hist_kws={'edgecolor':'black'},\n",
    "             kde_kws={'linewidth': 4}).set_title('Private leaderboard score density')"
   ]
  },
  {
   "cell_type": "code",
   "execution_count": 10,
   "id": "93d6c5a2-d141-44f3-8dc6-f7bb018e91ff",
   "metadata": {},
   "outputs": [
    {
     "data": {
      "text/html": [
       "<div>\n",
       "<style scoped>\n",
       "    .dataframe tbody tr th:only-of-type {\n",
       "        vertical-align: middle;\n",
       "    }\n",
       "\n",
       "    .dataframe tbody tr th {\n",
       "        vertical-align: top;\n",
       "    }\n",
       "\n",
       "    .dataframe thead th {\n",
       "        text-align: right;\n",
       "    }\n",
       "</style>\n",
       "<table border=\"1\" class=\"dataframe\">\n",
       "  <thead>\n",
       "    <tr style=\"text-align: right;\">\n",
       "      <th></th>\n",
       "      <th>private_rank</th>\n",
       "    </tr>\n",
       "  </thead>\n",
       "  <tbody>\n",
       "    <tr>\n",
       "      <th>count</th>\n",
       "      <td>174.000000</td>\n",
       "    </tr>\n",
       "    <tr>\n",
       "      <th>mean</th>\n",
       "      <td>87.500000</td>\n",
       "    </tr>\n",
       "    <tr>\n",
       "      <th>std</th>\n",
       "      <td>50.373604</td>\n",
       "    </tr>\n",
       "    <tr>\n",
       "      <th>min</th>\n",
       "      <td>1.000000</td>\n",
       "    </tr>\n",
       "    <tr>\n",
       "      <th>25%</th>\n",
       "      <td>44.250000</td>\n",
       "    </tr>\n",
       "    <tr>\n",
       "      <th>50%</th>\n",
       "      <td>87.500000</td>\n",
       "    </tr>\n",
       "    <tr>\n",
       "      <th>75%</th>\n",
       "      <td>130.750000</td>\n",
       "    </tr>\n",
       "    <tr>\n",
       "      <th>max</th>\n",
       "      <td>174.000000</td>\n",
       "    </tr>\n",
       "  </tbody>\n",
       "</table>\n",
       "</div>"
      ],
      "text/plain": [
       "       private_rank\n",
       "count    174.000000\n",
       "mean      87.500000\n",
       "std       50.373604\n",
       "min        1.000000\n",
       "25%       44.250000\n",
       "50%       87.500000\n",
       "75%      130.750000\n",
       "max      174.000000"
      ]
     },
     "execution_count": 10,
     "metadata": {},
     "output_type": "execute_result"
    }
   ],
   "source": [
    "df.describe()"
   ]
  },
  {
   "cell_type": "code",
   "execution_count": 11,
   "id": "caf7905c-2214-48b9-b181-9a9441979f9e",
   "metadata": {},
   "outputs": [
    {
     "data": {
      "text/plain": [
       "numpy.float64"
      ]
     },
     "execution_count": 11,
     "metadata": {},
     "output_type": "execute_result"
    }
   ],
   "source": [
    "df['public'] = df['public'].apply(lambda x: float(x))\n",
    "df['private'] = df['private'].apply(lambda x: float(x))\n",
    "type(df['public'][0])"
   ]
  },
  {
   "cell_type": "code",
   "execution_count": 12,
   "id": "696b5bc6-694e-4062-a0c8-80e0af1aab07",
   "metadata": {},
   "outputs": [
    {
     "name": "stderr",
     "output_type": "stream",
     "text": [
      "/home/chrome/.miniconda3/lib/python3.8/site-packages/seaborn/distributions.py:2557: FutureWarning: `distplot` is a deprecated function and will be removed in a future version. Please adapt your code to use either `displot` (a figure-level function with similar flexibility) or `histplot` (an axes-level function for histograms).\n",
      "  warnings.warn(msg, FutureWarning)\n"
     ]
    },
    {
     "data": {
      "text/plain": [
       "Text(0.5, 1.0, 'Distribution of team score changes from Pub. to Priv.')"
      ]
     },
     "execution_count": 12,
     "metadata": {},
     "output_type": "execute_result"
    },
    {
     "data": {
      "image/png": "[encoded data removed]",
      "text/plain": [
       "<Figure size 432x288 with 1 Axes>"
      ]
     },
     "metadata": {
      "needs_background": "light"
     },
     "output_type": "display_data"
    }
   ],
   "source": [
    "score_shifts = df['private'] - df['public']\n",
    "df['score_shift'] = score_shifts\n",
    "\n",
    "sns.distplot(score_shifts, hist=True, kde=True, color = 'darkblue', \n",
    "             hist_kws={'edgecolor':'black'},\n",
    "             kde_kws={'linewidth': 4}).set_title('Distribution of team score changes from Pub. to Priv.')"
   ]
  },
  {
   "cell_type": "code",
   "execution_count": 13,
   "id": "cfadfb21-813b-46e7-819e-ee25fa91a7bb",
   "metadata": {},
   "outputs": [
    {
     "data": {
      "text/plain": [
       "count    174.000000\n",
       "mean      -0.046330\n",
       "std        0.016959\n",
       "min       -0.096477\n",
       "25%       -0.053807\n",
       "50%       -0.047610\n",
       "75%       -0.037257\n",
       "max        0.004858\n",
       "dtype: float64"
      ]
     },
     "execution_count": 13,
     "metadata": {},
     "output_type": "execute_result"
    }
   ],
   "source": [
    "score_shifts.describe()"
   ]
  },
  {
   "cell_type": "code",
   "execution_count": 14,
   "id": "cdaf339a-55b8-40be-b642-4ee2942469fa",
   "metadata": {},
   "outputs": [
    {
     "name": "stdout",
     "output_type": "stream",
     "text": [
      "Biggest fall: Yolo shifted -0.09647664408399992\n",
      "Biggest gain: Pocho shifted 0.004857861201678\n"
     ]
    }
   ],
   "source": [
    "print( 'Biggest fall: ' + \n",
    "      str( df['name'][list(score_shifts).index(min(list(score_shifts)))]) +\n",
    "      ' shifted ' + str(min(score_shifts)))\n",
    "\n",
    "print( 'Biggest gain: ' + \n",
    "    str( df['name'][list(score_shifts).index(max(list(score_shifts)))]) +\n",
    "      ' shifted ' + str(max(score_shifts)))"
   ]
  },
  {
   "cell_type": "code",
   "execution_count": 15,
   "id": "4c088239-defa-49e6-b282-7cbdce1cae40",
   "metadata": {},
   "outputs": [
    {
     "data": {
      "text/plain": [
       "count    174.00000\n",
       "mean       0.00000\n",
       "std       17.34552\n",
       "min      -67.00000\n",
       "25%       -7.00000\n",
       "50%        0.00000\n",
       "75%        8.00000\n",
       "max       55.00000\n",
       "Name: private_rank, dtype: float64"
      ]
     },
     "execution_count": 15,
     "metadata": {},
     "output_type": "execute_result"
    }
   ],
   "source": [
    "private_rank = df['private_rank']\n",
    "\n",
    "\n",
    "temp = df['public'].argsort()\n",
    "\n",
    "\n",
    "public_rank = np.array([len(df['public']) - a for a in list(temp)])\n",
    "\n",
    "df['public_rank'] = public_rank\n",
    "\n",
    "rank_change = (public_rank - private_rank)\n",
    "df['rank_change'] = rank_change\n",
    "\n",
    "rank_change.describe()"
   ]
  },
  {
   "cell_type": "code",
   "execution_count": 16,
   "id": "5304ad89-7d89-499b-8f51-c08c35b2585e",
   "metadata": {},
   "outputs": [
    {
     "name": "stderr",
     "output_type": "stream",
     "text": [
      "/home/chrome/.miniconda3/lib/python3.8/site-packages/seaborn/distributions.py:2557: FutureWarning: `distplot` is a deprecated function and will be removed in a future version. Please adapt your code to use either `displot` (a figure-level function with similar flexibility) or `histplot` (an axes-level function for histograms).\n",
      "  warnings.warn(msg, FutureWarning)\n"
     ]
    },
    {
     "data": {
      "text/plain": [
       "Text(0.5, 1.0, 'Ranking of team score changes from Pub. to Priv.')"
      ]
     },
     "execution_count": 16,
     "metadata": {},
     "output_type": "execute_result"
    },
    {
     "data": {
      "image/png": "[encoded data removed]",
      "text/plain": [
       "<Figure size 432x288 with 1 Axes>"
      ]
     },
     "metadata": {
      "needs_background": "light"
     },
     "output_type": "display_data"
    }
   ],
   "source": [
    "sns.distplot(rank_change, hist=True, kde=True, color = 'darkblue', \n",
    "             hist_kws={'edgecolor':'black'},\n",
    "             kde_kws={'linewidth': 4}).set_title('Ranking of team score changes from Pub. to Priv.')"
   ]
  },
  {
   "cell_type": "code",
   "execution_count": 17,
   "id": "2f3bb086-7410-4e66-a15f-6ef03de97ce8",
   "metadata": {},
   "outputs": [
    {
     "name": "stdout",
     "output_type": "stream",
     "text": [
      "Biggest fall: Bobross shifted -67\n",
      "Biggest gain: Deepseg shifted 55\n"
     ]
    }
   ],
   "source": [
    "print( 'Biggest fall: ' + \n",
    "      str( df['name'][list(rank_change).index(min(list(rank_change)))]) +\n",
    "      ' shifted ' + str(min(rank_change)))\n",
    "\n",
    "print( 'Biggest gain: ' + \n",
    "    str( df['name'][list(rank_change).index(max(list(rank_change)))]) +\n",
    "      ' shifted ' + str(max(rank_change)))"
   ]
  },
  {
   "cell_type": "code",
   "execution_count": 18,
   "id": "8665a4d2-6e46-4756-98c2-9de0adf3fea6",
   "metadata": {},
   "outputs": [
    {
     "data": {
      "text/plain": [
       "0.004918285211347086"
      ]
     },
     "execution_count": 18,
     "metadata": {},
     "output_type": "execute_result"
    }
   ],
   "source": [
    "# Hypothesis: Higher ranked teams dropped more on average in the scores?\n",
    "\n",
    "df['private_rank'].corr(score_shifts)"
   ]
  },
  {
   "cell_type": "code",
   "execution_count": 19,
   "id": "7fc3a581-6cbb-4d52-9e2c-97677882351c",
   "metadata": {},
   "outputs": [
    {
     "data": {
      "text/plain": [
       "pandas.core.series.Series"
      ]
     },
     "execution_count": 19,
     "metadata": {},
     "output_type": "execute_result"
    }
   ],
   "source": [
    "type(score_shifts)"
   ]
  },
  {
   "cell_type": "code",
   "execution_count": 20,
   "id": "db2251fc-c194-4e09-a11b-d9cd927f1ab8",
   "metadata": {},
   "outputs": [
    {
     "data": {
      "text/plain": [
       "0.0006425447719066857"
      ]
     },
     "execution_count": 20,
     "metadata": {},
     "output_type": "execute_result"
    }
   ],
   "source": [
    "# Do higher ranked teams score changes vary less\n",
    "# My god, even worse\n",
    "\n",
    "df['private_rank'].corr(pd.Series([np.absolute(a) for a in score_shifts]))"
   ]
  },
  {
   "cell_type": "code",
   "execution_count": 22,
   "id": "281efd9f-7808-4f06-9ea8-46ebcf36e2f2",
   "metadata": {},
   "outputs": [],
   "source": [
    "team_stats = df.set_index('name')"
   ]
  },
  {
   "cell_type": "code",
   "execution_count": 24,
   "id": "38d224bd-e3c5-4bca-adf7-14b2c462f09e",
   "metadata": {},
   "outputs": [
    {
     "data": {
      "text/plain": [
       "private_rank    3.000000\n",
       "public          0.777533\n",
       "private         0.735522\n",
       "score_shift    -0.042011\n",
       "public_rank     2.000000\n",
       "rank_change    -1.000000\n",
       "Name: Amles, dtype: float64"
      ]
     },
     "execution_count": 24,
     "metadata": {},
     "output_type": "execute_result"
    }
   ],
   "source": [
    "team_stats.loc['Amles']"
   ]
  },
  {
   "cell_type": "code",
   "execution_count": 25,
   "id": "67810e8c-fb34-4d28-8dbd-b4e0f0362596",
   "metadata": {},
   "outputs": [
    {
     "data": {
      "text/plain": [
       "private_rank    32.000000\n",
       "public           0.784421\n",
       "private          0.708278\n",
       "score_shift     -0.076143\n",
       "public_rank     21.000000\n",
       "rank_change    -11.000000\n",
       "Name: Whatever, dtype: float64"
      ]
     },
     "execution_count": 25,
     "metadata": {},
     "output_type": "execute_result"
    }
   ],
   "source": [
    "team_stats.loc['Whatever']"
   ]
  },
  {
   "cell_type": "code",
   "execution_count": null,
   "id": "5577264d-2af8-46eb-bde5-0bc24293beab",
   "metadata": {},
   "outputs": [],
   "source": []
  }
 ],
 "metadata": {
  "kernelspec": {
   "display_name": "Finding-The-Sweet-Spot-Kernel",
   "language": "python",
   "name": "finding-the-sweet-spot-kernel"
  },
  "language_info": {
   "codemirror_mode": {
    "name": "ipython",
    "version": 3
   },
   "file_extension": ".py",
   "mimetype": "text/x-python",
   "name": "python",
   "nbconvert_exporter": "python",
   "pygments_lexer": "ipython3",
   "version": "3.8.5"
  }
 },
 "nbformat": 4,
 "nbformat_minor": 5
}
